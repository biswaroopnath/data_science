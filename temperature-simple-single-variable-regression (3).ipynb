{
 "cells": [
  {
   "cell_type": "code",
   "execution_count": 1,
   "metadata": {
    "_cell_guid": "b1076dfc-b9ad-4769-8c92-a6c4dae69d19",
    "_uuid": "8f2839f25d086af736a60e9eeb907d3b93b6e0e5",
    "execution": {
     "iopub.execute_input": "2022-07-31T05:22:37.593219Z",
     "iopub.status.busy": "2022-07-31T05:22:37.592053Z",
     "iopub.status.idle": "2022-07-31T05:22:37.632799Z",
     "shell.execute_reply": "2022-07-31T05:22:37.631993Z",
     "shell.execute_reply.started": "2022-07-31T05:22:37.593106Z"
    }
   },
   "outputs": [],
   "source": [
    "# This Python 3 environment comes with many helpful analytics libraries installed\n",
    "# It is defined by the kaggle/python Docker image: https://github.com/kaggle/docker-python\n",
    "# For example, here's several helpful packages to load\n",
    "\n",
    "import numpy as np # linear algebra\n",
    "import pandas as pd # data processing, CSV file I/O (e.g. pd.read_csv)\n",
    "\n",
    "# Input data files are available in the read-only \"../input/\" directory\n",
    "# For example, running this (by clicking run or pressing Shift+Enter) will list all files under the input directory\n",
    "\n",
    "# import os\n",
    "# for dirname, _, filenames in os.walk('/kaggle/input'):\n",
    "#     for filename in filenames:\n",
    "#         print(os.path.join(dirname, filename))\n",
    "\n",
    "# You can write up to 20GB to the current directory (/kaggle/working/) that gets preserved as output when you create a version using \"Save & Run All\" \n",
    "# You can also write temporary files to /kaggle/temp/, but they won't be saved outside of the current session"
   ]
  },
  {
   "cell_type": "code",
   "execution_count": 2,
   "metadata": {
    "execution": {
     "iopub.execute_input": "2022-07-31T05:22:37.645493Z",
     "iopub.status.busy": "2022-07-31T05:22:37.645079Z",
     "iopub.status.idle": "2022-07-31T05:22:38.750798Z",
     "shell.execute_reply": "2022-07-31T05:22:38.749729Z",
     "shell.execute_reply.started": "2022-07-31T05:22:37.645469Z"
    }
   },
   "outputs": [],
   "source": [
    "import seaborn as sns\n",
    "import matplotlib.pyplot as plt\n",
    "import warnings\n",
    "%matplotlib inline"
   ]
  },
  {
   "cell_type": "markdown",
   "metadata": {},
   "source": [
    "# Loading the data set"
   ]
  },
  {
   "cell_type": "code",
   "execution_count": 3,
   "metadata": {
    "execution": {
     "iopub.execute_input": "2022-07-31T05:22:38.753720Z",
     "iopub.status.busy": "2022-07-31T05:22:38.753115Z",
     "iopub.status.idle": "2022-07-31T05:22:38.769408Z",
     "shell.execute_reply": "2022-07-31T05:22:38.767754Z",
     "shell.execute_reply.started": "2022-07-31T05:22:38.753683Z"
    }
   },
   "outputs": [],
   "source": [
    "df = pd.read_csv('dataset[652].csv')"
   ]
  },
  {
   "cell_type": "code",
   "execution_count": 4,
   "metadata": {
    "execution": {
     "iopub.execute_input": "2022-07-31T05:22:38.771803Z",
     "iopub.status.busy": "2022-07-31T05:22:38.771187Z",
     "iopub.status.idle": "2022-07-31T05:22:38.795907Z",
     "shell.execute_reply": "2022-07-31T05:22:38.795054Z",
     "shell.execute_reply.started": "2022-07-31T05:22:38.771766Z"
    }
   },
   "outputs": [
    {
     "data": {
      "text/html": [
       "<div>\n",
       "<style scoped>\n",
       "    .dataframe tbody tr th:only-of-type {\n",
       "        vertical-align: middle;\n",
       "    }\n",
       "\n",
       "    .dataframe tbody tr th {\n",
       "        vertical-align: top;\n",
       "    }\n",
       "\n",
       "    .dataframe thead th {\n",
       "        text-align: right;\n",
       "    }\n",
       "</style>\n",
       "<table border=\"1\" class=\"dataframe\">\n",
       "  <thead>\n",
       "    <tr style=\"text-align: right;\">\n",
       "      <th></th>\n",
       "      <th>Humidity</th>\n",
       "      <th>Temperature</th>\n",
       "    </tr>\n",
       "  </thead>\n",
       "  <tbody>\n",
       "    <tr>\n",
       "      <th>0</th>\n",
       "      <td>0.596606</td>\n",
       "      <td>13.182462</td>\n",
       "    </tr>\n",
       "    <tr>\n",
       "      <th>1</th>\n",
       "      <td>0.656572</td>\n",
       "      <td>8.156680</td>\n",
       "    </tr>\n",
       "    <tr>\n",
       "      <th>2</th>\n",
       "      <td>0.141856</td>\n",
       "      <td>32.713142</td>\n",
       "    </tr>\n",
       "    <tr>\n",
       "      <th>3</th>\n",
       "      <td>0.757360</td>\n",
       "      <td>6.282035</td>\n",
       "    </tr>\n",
       "    <tr>\n",
       "      <th>4</th>\n",
       "      <td>0.613228</td>\n",
       "      <td>12.675158</td>\n",
       "    </tr>\n",
       "  </tbody>\n",
       "</table>\n",
       "</div>"
      ],
      "text/plain": [
       "   Humidity  Temperature\n",
       "0  0.596606    13.182462\n",
       "1  0.656572     8.156680\n",
       "2  0.141856    32.713142\n",
       "3  0.757360     6.282035\n",
       "4  0.613228    12.675158"
      ]
     },
     "execution_count": 4,
     "metadata": {},
     "output_type": "execute_result"
    }
   ],
   "source": [
    "df.head()"
   ]
  },
  {
   "cell_type": "markdown",
   "metadata": {},
   "source": [
    "# Checking for missing/Null values"
   ]
  },
  {
   "cell_type": "code",
   "execution_count": 5,
   "metadata": {
    "execution": {
     "iopub.execute_input": "2022-07-31T05:22:38.797908Z",
     "iopub.status.busy": "2022-07-31T05:22:38.797560Z",
     "iopub.status.idle": "2022-07-31T05:22:38.807538Z",
     "shell.execute_reply": "2022-07-31T05:22:38.806420Z",
     "shell.execute_reply.started": "2022-07-31T05:22:38.797880Z"
    }
   },
   "outputs": [
    {
     "data": {
      "text/plain": [
       "Humidity       0\n",
       "Temperature    0\n",
       "dtype: int64"
      ]
     },
     "execution_count": 5,
     "metadata": {},
     "output_type": "execute_result"
    }
   ],
   "source": [
    "df.isnull().sum()"
   ]
  },
  {
   "cell_type": "markdown",
   "metadata": {},
   "source": [
    "no none values present."
   ]
  },
  {
   "cell_type": "code",
   "execution_count": 6,
   "metadata": {
    "execution": {
     "iopub.execute_input": "2022-07-31T05:22:38.813856Z",
     "iopub.status.busy": "2022-07-31T05:22:38.811688Z",
     "iopub.status.idle": "2022-07-31T05:22:38.825770Z",
     "shell.execute_reply": "2022-07-31T05:22:38.824731Z",
     "shell.execute_reply.started": "2022-07-31T05:22:38.813811Z"
    }
   },
   "outputs": [
    {
     "data": {
      "text/plain": [
       "Humidity       0\n",
       "Temperature    0\n",
       "dtype: int64"
      ]
     },
     "execution_count": 6,
     "metadata": {},
     "output_type": "execute_result"
    }
   ],
   "source": [
    "df.isna().sum()"
   ]
  },
  {
   "cell_type": "markdown",
   "metadata": {},
   "source": [
    "no na values present."
   ]
  },
  {
   "cell_type": "code",
   "execution_count": 7,
   "metadata": {
    "execution": {
     "iopub.execute_input": "2022-07-31T05:22:38.827824Z",
     "iopub.status.busy": "2022-07-31T05:22:38.827468Z",
     "iopub.status.idle": "2022-07-31T05:22:38.854730Z",
     "shell.execute_reply": "2022-07-31T05:22:38.853657Z",
     "shell.execute_reply.started": "2022-07-31T05:22:38.827792Z"
    }
   },
   "outputs": [
    {
     "name": "stdout",
     "output_type": "stream",
     "text": [
      "<class 'pandas.core.frame.DataFrame'>\n",
      "RangeIndex: 300 entries, 0 to 299\n",
      "Data columns (total 2 columns):\n",
      " #   Column       Non-Null Count  Dtype  \n",
      "---  ------       --------------  -----  \n",
      " 0   Humidity     300 non-null    float64\n",
      " 1   Temperature  300 non-null    float64\n",
      "dtypes: float64(2)\n",
      "memory usage: 4.8 KB\n"
     ]
    }
   ],
   "source": [
    "df.info()"
   ]
  },
  {
   "cell_type": "markdown",
   "metadata": {},
   "source": [
    "# Some statistics of the data"
   ]
  },
  {
   "cell_type": "code",
   "execution_count": 8,
   "metadata": {
    "execution": {
     "iopub.execute_input": "2022-07-31T05:22:38.856527Z",
     "iopub.status.busy": "2022-07-31T05:22:38.856182Z",
     "iopub.status.idle": "2022-07-31T05:22:38.875243Z",
     "shell.execute_reply": "2022-07-31T05:22:38.874317Z",
     "shell.execute_reply.started": "2022-07-31T05:22:38.856503Z"
    }
   },
   "outputs": [
    {
     "data": {
      "text/html": [
       "<div>\n",
       "<style scoped>\n",
       "    .dataframe tbody tr th:only-of-type {\n",
       "        vertical-align: middle;\n",
       "    }\n",
       "\n",
       "    .dataframe tbody tr th {\n",
       "        vertical-align: top;\n",
       "    }\n",
       "\n",
       "    .dataframe thead th {\n",
       "        text-align: right;\n",
       "    }\n",
       "</style>\n",
       "<table border=\"1\" class=\"dataframe\">\n",
       "  <thead>\n",
       "    <tr style=\"text-align: right;\">\n",
       "      <th></th>\n",
       "      <th>Humidity</th>\n",
       "      <th>Temperature</th>\n",
       "    </tr>\n",
       "  </thead>\n",
       "  <tbody>\n",
       "    <tr>\n",
       "      <th>count</th>\n",
       "      <td>300.000000</td>\n",
       "      <td>300.000000</td>\n",
       "    </tr>\n",
       "    <tr>\n",
       "      <th>mean</th>\n",
       "      <td>0.535887</td>\n",
       "      <td>14.981862</td>\n",
       "    </tr>\n",
       "    <tr>\n",
       "      <th>std</th>\n",
       "      <td>0.169164</td>\n",
       "      <td>11.144964</td>\n",
       "    </tr>\n",
       "    <tr>\n",
       "      <th>min</th>\n",
       "      <td>0.000000</td>\n",
       "      <td>-21.684834</td>\n",
       "    </tr>\n",
       "    <tr>\n",
       "      <th>25%</th>\n",
       "      <td>0.424500</td>\n",
       "      <td>8.290974</td>\n",
       "    </tr>\n",
       "    <tr>\n",
       "      <th>50%</th>\n",
       "      <td>0.537120</td>\n",
       "      <td>14.907001</td>\n",
       "    </tr>\n",
       "    <tr>\n",
       "      <th>75%</th>\n",
       "      <td>0.649772</td>\n",
       "      <td>22.408376</td>\n",
       "    </tr>\n",
       "    <tr>\n",
       "      <th>max</th>\n",
       "      <td>1.000000</td>\n",
       "      <td>43.825049</td>\n",
       "    </tr>\n",
       "  </tbody>\n",
       "</table>\n",
       "</div>"
      ],
      "text/plain": [
       "         Humidity  Temperature\n",
       "count  300.000000   300.000000\n",
       "mean     0.535887    14.981862\n",
       "std      0.169164    11.144964\n",
       "min      0.000000   -21.684834\n",
       "25%      0.424500     8.290974\n",
       "50%      0.537120    14.907001\n",
       "75%      0.649772    22.408376\n",
       "max      1.000000    43.825049"
      ]
     },
     "execution_count": 8,
     "metadata": {},
     "output_type": "execute_result"
    }
   ],
   "source": [
    "df.describe()"
   ]
  },
  {
   "cell_type": "markdown",
   "metadata": {},
   "source": [
    "# Splitting of Dataset"
   ]
  },
  {
   "cell_type": "code",
   "execution_count": 9,
   "metadata": {
    "execution": {
     "iopub.execute_input": "2022-07-31T05:22:38.877327Z",
     "iopub.status.busy": "2022-07-31T05:22:38.876682Z",
     "iopub.status.idle": "2022-07-31T05:22:39.072907Z",
     "shell.execute_reply": "2022-07-31T05:22:39.071876Z",
     "shell.execute_reply.started": "2022-07-31T05:22:38.877287Z"
    }
   },
   "outputs": [],
   "source": [
    "from sklearn.model_selection import train_test_split\n",
    "df_train, df_test = train_test_split(df, train_size=0.8, test_size = 0.2, random_state = 32) # here test size is 20% of original dataset"
   ]
  },
  {
   "cell_type": "code",
   "execution_count": 10,
   "metadata": {
    "execution": {
     "iopub.execute_input": "2022-07-31T05:22:39.074451Z",
     "iopub.status.busy": "2022-07-31T05:22:39.074153Z",
     "iopub.status.idle": "2022-07-31T05:22:39.084043Z",
     "shell.execute_reply": "2022-07-31T05:22:39.083001Z",
     "shell.execute_reply.started": "2022-07-31T05:22:39.074424Z"
    }
   },
   "outputs": [
    {
     "data": {
      "text/html": [
       "<div>\n",
       "<style scoped>\n",
       "    .dataframe tbody tr th:only-of-type {\n",
       "        vertical-align: middle;\n",
       "    }\n",
       "\n",
       "    .dataframe tbody tr th {\n",
       "        vertical-align: top;\n",
       "    }\n",
       "\n",
       "    .dataframe thead th {\n",
       "        text-align: right;\n",
       "    }\n",
       "</style>\n",
       "<table border=\"1\" class=\"dataframe\">\n",
       "  <thead>\n",
       "    <tr style=\"text-align: right;\">\n",
       "      <th></th>\n",
       "      <th>Humidity</th>\n",
       "      <th>Temperature</th>\n",
       "    </tr>\n",
       "  </thead>\n",
       "  <tbody>\n",
       "    <tr>\n",
       "      <th>156</th>\n",
       "      <td>0.187995</td>\n",
       "      <td>36.457018</td>\n",
       "    </tr>\n",
       "    <tr>\n",
       "      <th>294</th>\n",
       "      <td>0.455106</td>\n",
       "      <td>17.081201</td>\n",
       "    </tr>\n",
       "    <tr>\n",
       "      <th>184</th>\n",
       "      <td>0.542374</td>\n",
       "      <td>16.613381</td>\n",
       "    </tr>\n",
       "    <tr>\n",
       "      <th>130</th>\n",
       "      <td>0.615996</td>\n",
       "      <td>12.977813</td>\n",
       "    </tr>\n",
       "    <tr>\n",
       "      <th>15</th>\n",
       "      <td>0.556324</td>\n",
       "      <td>18.576819</td>\n",
       "    </tr>\n",
       "  </tbody>\n",
       "</table>\n",
       "</div>"
      ],
      "text/plain": [
       "     Humidity  Temperature\n",
       "156  0.187995    36.457018\n",
       "294  0.455106    17.081201\n",
       "184  0.542374    16.613381\n",
       "130  0.615996    12.977813\n",
       "15   0.556324    18.576819"
      ]
     },
     "execution_count": 10,
     "metadata": {},
     "output_type": "execute_result"
    }
   ],
   "source": [
    "df_train.head()"
   ]
  },
  {
   "cell_type": "code",
   "execution_count": 11,
   "metadata": {
    "execution": {
     "iopub.execute_input": "2022-07-31T05:22:39.086133Z",
     "iopub.status.busy": "2022-07-31T05:22:39.085306Z",
     "iopub.status.idle": "2022-07-31T05:22:39.102715Z",
     "shell.execute_reply": "2022-07-31T05:22:39.101036Z",
     "shell.execute_reply.started": "2022-07-31T05:22:39.086102Z"
    }
   },
   "outputs": [
    {
     "data": {
      "text/html": [
       "<div>\n",
       "<style scoped>\n",
       "    .dataframe tbody tr th:only-of-type {\n",
       "        vertical-align: middle;\n",
       "    }\n",
       "\n",
       "    .dataframe tbody tr th {\n",
       "        vertical-align: top;\n",
       "    }\n",
       "\n",
       "    .dataframe thead th {\n",
       "        text-align: right;\n",
       "    }\n",
       "</style>\n",
       "<table border=\"1\" class=\"dataframe\">\n",
       "  <thead>\n",
       "    <tr style=\"text-align: right;\">\n",
       "      <th></th>\n",
       "      <th>Humidity</th>\n",
       "      <th>Temperature</th>\n",
       "    </tr>\n",
       "  </thead>\n",
       "  <tbody>\n",
       "    <tr>\n",
       "      <th>265</th>\n",
       "      <td>0.473704</td>\n",
       "      <td>26.027498</td>\n",
       "    </tr>\n",
       "    <tr>\n",
       "      <th>255</th>\n",
       "      <td>0.562434</td>\n",
       "      <td>9.664922</td>\n",
       "    </tr>\n",
       "    <tr>\n",
       "      <th>286</th>\n",
       "      <td>0.928479</td>\n",
       "      <td>-4.872044</td>\n",
       "    </tr>\n",
       "    <tr>\n",
       "      <th>19</th>\n",
       "      <td>0.485101</td>\n",
       "      <td>16.762489</td>\n",
       "    </tr>\n",
       "    <tr>\n",
       "      <th>212</th>\n",
       "      <td>0.473949</td>\n",
       "      <td>14.142821</td>\n",
       "    </tr>\n",
       "  </tbody>\n",
       "</table>\n",
       "</div>"
      ],
      "text/plain": [
       "     Humidity  Temperature\n",
       "265  0.473704    26.027498\n",
       "255  0.562434     9.664922\n",
       "286  0.928479    -4.872044\n",
       "19   0.485101    16.762489\n",
       "212  0.473949    14.142821"
      ]
     },
     "execution_count": 11,
     "metadata": {},
     "output_type": "execute_result"
    }
   ],
   "source": [
    "df_test.head()"
   ]
  },
  {
   "cell_type": "markdown",
   "metadata": {},
   "source": [
    "# Plotting"
   ]
  },
  {
   "cell_type": "code",
   "execution_count": 12,
   "metadata": {
    "execution": {
     "iopub.execute_input": "2022-07-31T05:22:39.104648Z",
     "iopub.status.busy": "2022-07-31T05:22:39.103923Z",
     "iopub.status.idle": "2022-07-31T05:22:39.297780Z",
     "shell.execute_reply": "2022-07-31T05:22:39.296522Z",
     "shell.execute_reply.started": "2022-07-31T05:22:39.104616Z"
    }
   },
   "outputs": [
    {
     "data": {
      "text/plain": [
       "<matplotlib.collections.PathCollection at 0x243b1e6b6d0>"
      ]
     },
     "execution_count": 12,
     "metadata": {},
     "output_type": "execute_result"
    },
    {
     "data": {
      "image/png": "[encoded data removed]",
      "text/plain": [
       "<Figure size 432x288 with 1 Axes>"
      ]
     },
     "metadata": {
      "needs_background": "dark"
     },
     "output_type": "display_data"
    }
   ],
   "source": [
    "plt.xlabel('Humidity')\n",
    "plt.ylabel('Temperature')\n",
    "plt.scatter(df_train.Humidity, df_train.Temperature, color='red',marker='+')"
   ]
  },
  {
   "cell_type": "code",
   "execution_count": 13,
   "metadata": {
    "execution": {
     "iopub.execute_input": "2022-07-31T05:22:39.299383Z",
     "iopub.status.busy": "2022-07-31T05:22:39.299011Z",
     "iopub.status.idle": "2022-07-31T05:22:39.397508Z",
     "shell.execute_reply": "2022-07-31T05:22:39.396698Z",
     "shell.execute_reply.started": "2022-07-31T05:22:39.299332Z"
    }
   },
   "outputs": [
    {
     "data": {
      "text/plain": [
       "LinearRegression()"
      ]
     },
     "execution_count": 13,
     "metadata": {},
     "output_type": "execute_result"
    }
   ],
   "source": [
    "from sklearn import linear_model\n",
    "reg = linear_model.LinearRegression()\n",
    "reg.fit(df_train[['Humidity']].values, df_train.Temperature)"
   ]
  },
  {
   "cell_type": "code",
   "execution_count": 14,
   "metadata": {
    "execution": {
     "iopub.execute_input": "2022-07-31T05:22:39.399198Z",
     "iopub.status.busy": "2022-07-31T05:22:39.398766Z",
     "iopub.status.idle": "2022-07-31T05:22:39.406864Z",
     "shell.execute_reply": "2022-07-31T05:22:39.405945Z",
     "shell.execute_reply.started": "2022-07-31T05:22:39.399170Z"
    }
   },
   "outputs": [
    {
     "data": {
      "text/plain": [
       "array([22.97569844])"
      ]
     },
     "execution_count": 14,
     "metadata": {},
     "output_type": "execute_result"
    }
   ],
   "source": [
    "reg.predict([[0.4]]) # testing a random value"
   ]
  },
  {
   "cell_type": "markdown",
   "metadata": {},
   "source": [
    "# The Relationship"
   ]
  },
  {
   "cell_type": "code",
   "execution_count": 15,
   "metadata": {
    "execution": {
     "iopub.execute_input": "2022-07-31T05:22:39.410487Z",
     "iopub.status.busy": "2022-07-31T05:22:39.410008Z",
     "iopub.status.idle": "2022-07-31T05:22:39.421215Z",
     "shell.execute_reply": "2022-07-31T05:22:39.419620Z",
     "shell.execute_reply.started": "2022-07-31T05:22:39.410453Z"
    }
   },
   "outputs": [
    {
     "data": {
      "text/plain": [
       "array([-59.25588616])"
      ]
     },
     "execution_count": 15,
     "metadata": {},
     "output_type": "execute_result"
    }
   ],
   "source": [
    "reg.coef_"
   ]
  },
  {
   "cell_type": "code",
   "execution_count": 16,
   "metadata": {
    "execution": {
     "iopub.execute_input": "2022-07-31T05:22:39.425258Z",
     "iopub.status.busy": "2022-07-31T05:22:39.424484Z",
     "iopub.status.idle": "2022-07-31T05:22:39.433184Z",
     "shell.execute_reply": "2022-07-31T05:22:39.432260Z",
     "shell.execute_reply.started": "2022-07-31T05:22:39.425233Z"
    }
   },
   "outputs": [
    {
     "data": {
      "text/plain": [
       "46.67805289888122"
      ]
     },
     "execution_count": 16,
     "metadata": {},
     "output_type": "execute_result"
    }
   ],
   "source": [
    "reg.intercept_"
   ]
  },
  {
   "cell_type": "code",
   "execution_count": 17,
   "metadata": {
    "execution": {
     "iopub.execute_input": "2022-07-31T05:22:39.435409Z",
     "iopub.status.busy": "2022-07-31T05:22:39.434262Z",
     "iopub.status.idle": "2022-07-31T05:22:39.449283Z",
     "shell.execute_reply": "2022-07-31T05:22:39.448285Z",
     "shell.execute_reply.started": "2022-07-31T05:22:39.435370Z"
    }
   },
   "outputs": [
    {
     "name": "stdout",
     "output_type": "stream",
     "text": [
      "The relationship is : Temperature =  -59.25588615970043  * Humidity +  46.67805289888122\n"
     ]
    }
   ],
   "source": [
    "print(\"The relationship is : Temperature = \", float(reg.coef_),\" * Humidity + \",reg.intercept_ )"
   ]
  },
  {
   "cell_type": "markdown",
   "metadata": {},
   "source": [
    " ## The best fit line"
   ]
  },
  {
   "cell_type": "code",
   "execution_count": 18,
   "metadata": {
    "execution": {
     "iopub.execute_input": "2022-07-31T05:22:39.451936Z",
     "iopub.status.busy": "2022-07-31T05:22:39.451418Z",
     "iopub.status.idle": "2022-07-31T05:22:39.619560Z",
     "shell.execute_reply": "2022-07-31T05:22:39.618417Z",
     "shell.execute_reply.started": "2022-07-31T05:22:39.451895Z"
    }
   },
   "outputs": [
    {
     "data": {
      "text/plain": [
       "[<matplotlib.lines.Line2D at 0x243b2720e50>]"
      ]
     },
     "execution_count": 18,
     "metadata": {},
     "output_type": "execute_result"
    },
    {
     "data": {
      "image/png": "[encoded data removed]",
      "text/plain": [
       "<Figure size 432x288 with 1 Axes>"
      ]
     },
     "metadata": {
      "needs_background": "dark"
     },
     "output_type": "display_data"
    }
   ],
   "source": [
    "plt.xlabel('Humidity', fontsize=20)\n",
    "plt.ylabel('Temperature', fontsize=20)\n",
    "plt.scatter(df_train.Humidity, df_train.Temperature, color='red',marker='+')\n",
    "plt.plot(df_train.Humidity, reg.predict(df_train[['Humidity']].values), color='blue')"
   ]
  },
  {
   "cell_type": "markdown",
   "metadata": {},
   "source": [
    "This is the best-fit line."
   ]
  },
  {
   "cell_type": "markdown",
   "metadata": {},
   "source": [
    "# Prediction from test data"
   ]
  },
  {
   "cell_type": "code",
   "execution_count": 19,
   "metadata": {
    "execution": {
     "iopub.execute_input": "2022-07-31T05:22:39.621423Z",
     "iopub.status.busy": "2022-07-31T05:22:39.621099Z",
     "iopub.status.idle": "2022-07-31T05:22:39.628777Z",
     "shell.execute_reply": "2022-07-31T05:22:39.627956Z",
     "shell.execute_reply.started": "2022-07-31T05:22:39.621393Z"
    }
   },
   "outputs": [],
   "source": [
    "pred = reg.predict(df_test[['Humidity']].values)"
   ]
  },
  {
   "cell_type": "markdown",
   "metadata": {},
   "source": [
    "## Checking Accuracy"
   ]
  },
  {
   "cell_type": "code",
   "execution_count": 20,
   "metadata": {
    "execution": {
     "iopub.execute_input": "2022-07-31T05:22:39.631294Z",
     "iopub.status.busy": "2022-07-31T05:22:39.630911Z",
     "iopub.status.idle": "2022-07-31T05:22:39.637785Z",
     "shell.execute_reply": "2022-07-31T05:22:39.636903Z",
     "shell.execute_reply.started": "2022-07-31T05:22:39.631263Z"
    }
   },
   "outputs": [],
   "source": [
    "from sklearn.metrics import mean_squared_error\n"
   ]
  },
  {
   "cell_type": "code",
   "execution_count": 21,
   "metadata": {
    "execution": {
     "iopub.execute_input": "2022-07-31T05:22:39.640035Z",
     "iopub.status.busy": "2022-07-31T05:22:39.639274Z",
     "iopub.status.idle": "2022-07-31T05:22:39.651913Z",
     "shell.execute_reply": "2022-07-31T05:22:39.650708Z",
     "shell.execute_reply.started": "2022-07-31T05:22:39.639997Z"
    }
   },
   "outputs": [
    {
     "name": "stdout",
     "output_type": "stream",
     "text": [
      "Model Report\n",
      "MSE: 26.92354337018343\n"
     ]
    }
   ],
   "source": [
    "print(\"Model Report\")\n",
    "print(\"MSE:\", mean_squared_error(df_test['Temperature'].values, pred))\n"
   ]
  },
  {
   "cell_type": "code",
   "execution_count": null,
   "metadata": {},
   "outputs": [],
   "source": []
  }
 ],
 "metadata": {
  "kernelspec": {
   "display_name": "Python 3 (ipykernel)",
   "language": "python",
   "name": "python3"
  },
  "language_info": {
   "codemirror_mode": {
    "name": "ipython",
    "version": 3
   },
   "file_extension": ".py",
   "mimetype": "text/x-python",
   "name": "python",
   "nbconvert_exporter": "python",
   "pygments_lexer": "ipython3",
   "version": "3.9.7"
  },
  "toc": {
   "base_numbering": 1,
   "nav_menu": {},
   "number_sections": true,
   "sideBar": true,
   "skip_h1_title": false,
   "title_cell": "Table of Contents",
   "title_sidebar": "Contents",
   "toc_cell": false,
   "toc_position": {},
   "toc_section_display": true,
   "toc_window_display": false
  }
 },
 "nbformat": 4,
 "nbformat_minor": 4
}
